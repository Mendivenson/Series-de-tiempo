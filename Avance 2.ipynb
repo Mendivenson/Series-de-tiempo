{
  "cells": [
    {
      "cell_type": "markdown",
      "id": "47ce7fee-06a1-45ab-be53-7698a3606583",
      "metadata": {
        "id": "47ce7fee-06a1-45ab-be53-7698a3606583"
      },
      "source": [
        "# **Avance 2. Series de tiempo univariadas:**\n",
        "## **Universidad Nacional de Colombia.**\n",
        "## **Docente:**\n",
        "\n",
        "  - [Sergio Alejandro Calderón Villanueva](sacalderonv@unal.edu.co)\n",
        "\n",
        "## **Autores:**\n",
        "\n",
        "  - [Michel Mendivenson Barragán Zabala](mbarraganz@unal.edu.co)\n",
        "  - [Sharon Juliana Zambrano Ortiz](shzambranoo@unal.edu.co)\n",
        "  - [Nicolás Alejandro Quenguan Parra](naquenguanp@unal.edu.co)\n",
        "  - [Aryin Jair Torres Quiñone](artorresq@unal.edu.co)\n",
        "\n",
        "---\n",
        "**Nota:** Los avances estaban siendo realizados en archivos de Rmarkdown ```.Rmd```. Sin embargo, como la intención de este avance es incluir algunos modelos de aprendizaje profundo (Redes neuronales multicapa y redes recurrentes) por el bien de no utilizar recursos de computo de los equipos de cada uno de  los integrantes del grupo"
      ]
    },
    {
      "cell_type": "code",
      "execution_count": null,
      "id": "8c93454c-eb7c-4545-951f-189eda428728",
      "metadata": {
        "id": "8c93454c-eb7c-4545-951f-189eda428728"
      },
      "outputs": [],
      "source": []
    }
  ],
  "metadata": {
    "kernelspec": {
      "display_name": "Python 3 (ipykernel)",
      "language": "python",
      "name": "python3"
    },
    "language_info": {
      "codemirror_mode": {
        "name": "ipython",
        "version": 3
      },
      "file_extension": ".py",
      "mimetype": "text/x-python",
      "name": "python",
      "nbconvert_exporter": "python",
      "pygments_lexer": "ipython3",
      "version": "3.12.2"
    },
    "colab": {
      "provenance": []
    }
  },
  "nbformat": 4,
  "nbformat_minor": 5
}