{
 "cells": [
  {
   "cell_type": "markdown",
   "id": "47ce7fee-06a1-45ab-be53-7698a3606583",
   "metadata": {},
   "source": [
    "So for the sake of my pc I'm using collab for this one XD"
   ]
  },
  {
   "cell_type": "code",
   "execution_count": null,
   "id": "8c93454c-eb7c-4545-951f-189eda428728",
   "metadata": {},
   "outputs": [],
   "source": []
  }
 ],
 "metadata": {
  "kernelspec": {
   "display_name": "Python 3 (ipykernel)",
   "language": "python",
   "name": "python3"
  },
  "language_info": {
   "codemirror_mode": {
    "name": "ipython",
    "version": 3
   },
   "file_extension": ".py",
   "mimetype": "text/x-python",
   "name": "python",
   "nbconvert_exporter": "python",
   "pygments_lexer": "ipython3",
   "version": "3.12.2"
  }
 },
 "nbformat": 4,
 "nbformat_minor": 5
}
